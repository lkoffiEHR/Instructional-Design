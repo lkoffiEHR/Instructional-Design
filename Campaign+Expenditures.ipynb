{
 "cells": [
  {
   "cell_type": "markdown",
   "metadata": {},
   "source": [
    "# Campaign Expenditures\n",
    "\n",
    "The Federal Election Commission (FEC) is an independent regulatory agency established in 1975 to administer and enforce the Federal Election Campaign Act (FECA), which requires public disclosure of campaign finance information. The FEC publishes campaign finance reports for presidential and legislative election campaign candidates on the Campaign Finance Disclosure Portal.\n",
    "\n",
    "The finance summary report contains one record for each financial report (Form 3P) filed by the presidential campaign committees during the 2016 primary and general election campaigns. Presidential committees file quarterly prior to the election year and monthly during the election year. The campaign expenditures file contains individual operating expenditures made by the campaign committee and reported on Form 3P Line 23 during the same period. Operating expenditures consist of the routine costs of campaigning for president, which include staffing, travel, advertising, voter outreach, and other activities.\n",
    "\n",
    "https://www.kaggle.com/fec/presidential-campaign-finance\n",
    "\n",
    "Goal: Provide some context of campaign contributions via basic information and analysis."
   ]
  },
  {
   "cell_type": "code",
   "execution_count": 1,
   "metadata": {
    "collapsed": true
   },
   "outputs": [],
   "source": [
    "import pandas as pd\n",
    "import numpy as np\n",
    "import matplotlib.pyplot as plt\n",
    "import seaborn as sns\n",
    "%matplotlib inline"
   ]
  },
  {
   "cell_type": "code",
   "execution_count": 2,
   "metadata": {
    "collapsed": true
   },
   "outputs": [],
   "source": [
    "exp = pd.read_csv('expenditures.csv')"
   ]
  },
  {
   "cell_type": "code",
   "execution_count": 3,
   "metadata": {
    "collapsed": false
   },
   "outputs": [
    {
     "data": {
      "text/html": [
       "<div>\n",
       "<table border=\"1\" class=\"dataframe\">\n",
       "  <thead>\n",
       "    <tr style=\"text-align: right;\">\n",
       "      <th></th>\n",
       "      <th>committee_id</th>\n",
       "      <th>candidate_id</th>\n",
       "      <th>candidate_name</th>\n",
       "      <th>recipient_name</th>\n",
       "      <th>disbursement_amount</th>\n",
       "      <th>disbursement_date</th>\n",
       "      <th>recipient_city</th>\n",
       "      <th>recipient_state</th>\n",
       "      <th>recipient_zipcode</th>\n",
       "      <th>disbursement_desc</th>\n",
       "      <th>memo_code</th>\n",
       "      <th>memo_text</th>\n",
       "      <th>form_type</th>\n",
       "      <th>file_number</th>\n",
       "      <th>transaction_id</th>\n",
       "      <th>election_type</th>\n",
       "    </tr>\n",
       "  </thead>\n",
       "  <tbody>\n",
       "    <tr>\n",
       "      <th>0</th>\n",
       "      <td>C00458844</td>\n",
       "      <td>P60006723</td>\n",
       "      <td>RUBIO, MARCO</td>\n",
       "      <td>GREEN, PERRY MR.</td>\n",
       "      <td>500.00</td>\n",
       "      <td>15-Sep-15</td>\n",
       "      <td>ANCHORAGE</td>\n",
       "      <td>AK</td>\n",
       "      <td>995084442</td>\n",
       "      <td>IN-KIND CONTRIBUTION</td>\n",
       "      <td>NaN</td>\n",
       "      <td>IN KIND: FACILITY RENTAL</td>\n",
       "      <td>SB23</td>\n",
       "      <td>1031526</td>\n",
       "      <td>SB23.831217</td>\n",
       "      <td>P2016</td>\n",
       "    </tr>\n",
       "    <tr>\n",
       "      <th>1</th>\n",
       "      <td>C00458844</td>\n",
       "      <td>P60006723</td>\n",
       "      <td>RUBIO, MARCO</td>\n",
       "      <td>ALASKA REPUBLICAN PARTY</td>\n",
       "      <td>2500.00</td>\n",
       "      <td>16-Nov-15</td>\n",
       "      <td>ANCHORAGE</td>\n",
       "      <td>AK</td>\n",
       "      <td>99503</td>\n",
       "      <td>BALLOT ACCESS</td>\n",
       "      <td>NaN</td>\n",
       "      <td>NaN</td>\n",
       "      <td>SB23</td>\n",
       "      <td>1047126</td>\n",
       "      <td>SB23.I14767</td>\n",
       "      <td>NaN</td>\n",
       "    </tr>\n",
       "    <tr>\n",
       "      <th>2</th>\n",
       "      <td>C00458844</td>\n",
       "      <td>P60006723</td>\n",
       "      <td>RUBIO, MARCO</td>\n",
       "      <td>JOHNSON, MARK</td>\n",
       "      <td>1000.00</td>\n",
       "      <td>30-Sep-15</td>\n",
       "      <td>ANCHORAGE</td>\n",
       "      <td>AK</td>\n",
       "      <td>995163436</td>\n",
       "      <td>IN-KIND CONTRIBUTION</td>\n",
       "      <td>NaN</td>\n",
       "      <td>IN KIND: BUMPER STICKERS SIGNS AND BUTTONS</td>\n",
       "      <td>SB23</td>\n",
       "      <td>1031526</td>\n",
       "      <td>SB23.831218</td>\n",
       "      <td>P2016</td>\n",
       "    </tr>\n",
       "    <tr>\n",
       "      <th>3</th>\n",
       "      <td>C00458844</td>\n",
       "      <td>P60006723</td>\n",
       "      <td>RUBIO, MARCO</td>\n",
       "      <td>ENTERPRISE</td>\n",
       "      <td>336.09</td>\n",
       "      <td>18-Dec-15</td>\n",
       "      <td>BIRMINGHAM</td>\n",
       "      <td>AL</td>\n",
       "      <td>352124572</td>\n",
       "      <td>CAR RENTAL</td>\n",
       "      <td>X</td>\n",
       "      <td>NaN</td>\n",
       "      <td>SB23</td>\n",
       "      <td>1047126</td>\n",
       "      <td>SB23.I15112</td>\n",
       "      <td>NaN</td>\n",
       "    </tr>\n",
       "    <tr>\n",
       "      <th>4</th>\n",
       "      <td>C00458844</td>\n",
       "      <td>P60006723</td>\n",
       "      <td>RUBIO, MARCO</td>\n",
       "      <td>U.S. SPACE AND ROCKET CENTER</td>\n",
       "      <td>2000.00</td>\n",
       "      <td>7-Apr-16</td>\n",
       "      <td>HUNTSVILLE</td>\n",
       "      <td>AL</td>\n",
       "      <td>35805</td>\n",
       "      <td>SITE RENTAL</td>\n",
       "      <td>NaN</td>\n",
       "      <td>NaN</td>\n",
       "      <td>SB23</td>\n",
       "      <td>1073515</td>\n",
       "      <td>SB23.4226</td>\n",
       "      <td>P2016</td>\n",
       "    </tr>\n",
       "  </tbody>\n",
       "</table>\n",
       "</div>"
      ],
      "text/plain": [
       "  committee_id candidate_id candidate_name                recipient_name  \\\n",
       "0    C00458844    P60006723   RUBIO, MARCO              GREEN, PERRY MR.   \n",
       "1    C00458844    P60006723   RUBIO, MARCO       ALASKA REPUBLICAN PARTY   \n",
       "2    C00458844    P60006723   RUBIO, MARCO                 JOHNSON, MARK   \n",
       "3    C00458844    P60006723   RUBIO, MARCO                    ENTERPRISE   \n",
       "4    C00458844    P60006723   RUBIO, MARCO  U.S. SPACE AND ROCKET CENTER   \n",
       "\n",
       "   disbursement_amount disbursement_date recipient_city recipient_state  \\\n",
       "0               500.00         15-Sep-15      ANCHORAGE              AK   \n",
       "1              2500.00         16-Nov-15      ANCHORAGE              AK   \n",
       "2              1000.00         30-Sep-15      ANCHORAGE              AK   \n",
       "3               336.09         18-Dec-15     BIRMINGHAM              AL   \n",
       "4              2000.00          7-Apr-16     HUNTSVILLE              AL   \n",
       "\n",
       "  recipient_zipcode     disbursement_desc memo_code  \\\n",
       "0         995084442  IN-KIND CONTRIBUTION       NaN   \n",
       "1             99503         BALLOT ACCESS       NaN   \n",
       "2         995163436  IN-KIND CONTRIBUTION       NaN   \n",
       "3         352124572            CAR RENTAL         X   \n",
       "4             35805           SITE RENTAL       NaN   \n",
       "\n",
       "                                    memo_text form_type  file_number  \\\n",
       "0                    IN KIND: FACILITY RENTAL      SB23      1031526   \n",
       "1                                         NaN      SB23      1047126   \n",
       "2  IN KIND: BUMPER STICKERS SIGNS AND BUTTONS      SB23      1031526   \n",
       "3                                         NaN      SB23      1047126   \n",
       "4                                         NaN      SB23      1073515   \n",
       "\n",
       "  transaction_id election_type  \n",
       "0    SB23.831217         P2016  \n",
       "1    SB23.I14767           NaN  \n",
       "2    SB23.831218         P2016  \n",
       "3    SB23.I15112           NaN  \n",
       "4      SB23.4226         P2016  "
      ]
     },
     "execution_count": 3,
     "metadata": {},
     "output_type": "execute_result"
    }
   ],
   "source": [
    "exp.head()"
   ]
  },
  {
   "cell_type": "code",
   "execution_count": 4,
   "metadata": {
    "collapsed": false
   },
   "outputs": [
    {
     "data": {
      "text/plain": [
       "(65499, 16)"
      ]
     },
     "execution_count": 4,
     "metadata": {},
     "output_type": "execute_result"
    }
   ],
   "source": [
    "exp.shape"
   ]
  },
  {
   "cell_type": "code",
   "execution_count": 5,
   "metadata": {
    "collapsed": false
   },
   "outputs": [
    {
     "name": "stdout",
     "output_type": "stream",
     "text": [
      "<class 'pandas.core.frame.DataFrame'>\n",
      "RangeIndex: 65499 entries, 0 to 65498\n",
      "Data columns (total 16 columns):\n",
      "committee_id           65499 non-null object\n",
      "candidate_id           65499 non-null object\n",
      "candidate_name         65499 non-null object\n",
      "recipient_name         65499 non-null object\n",
      "disbursement_amount    65499 non-null float64\n",
      "disbursement_date      65499 non-null object\n",
      "recipient_city         65497 non-null object\n",
      "recipient_state        65499 non-null object\n",
      "recipient_zipcode      65479 non-null object\n",
      "disbursement_desc      65496 non-null object\n",
      "memo_code              41828 non-null object\n",
      "memo_text              1297 non-null object\n",
      "form_type              65499 non-null object\n",
      "file_number            65499 non-null int64\n",
      "transaction_id         65499 non-null object\n",
      "election_type          28806 non-null object\n",
      "dtypes: float64(1), int64(1), object(14)\n",
      "memory usage: 8.0+ MB\n"
     ]
    }
   ],
   "source": [
    "exp.info()"
   ]
  },
  {
   "cell_type": "code",
   "execution_count": 6,
   "metadata": {
    "collapsed": false
   },
   "outputs": [
    {
     "data": {
      "text/html": [
       "<div>\n",
       "<table border=\"1\" class=\"dataframe\">\n",
       "  <thead>\n",
       "    <tr style=\"text-align: right;\">\n",
       "      <th></th>\n",
       "      <th>disbursement_amount</th>\n",
       "      <th>file_number</th>\n",
       "    </tr>\n",
       "  </thead>\n",
       "  <tbody>\n",
       "    <tr>\n",
       "      <th>count</th>\n",
       "      <td>6.549900e+04</td>\n",
       "      <td>6.549900e+04</td>\n",
       "    </tr>\n",
       "    <tr>\n",
       "      <th>mean</th>\n",
       "      <td>9.611805e+03</td>\n",
       "      <td>1.073751e+06</td>\n",
       "    </tr>\n",
       "    <tr>\n",
       "      <th>std</th>\n",
       "      <td>2.154950e+05</td>\n",
       "      <td>3.116556e+04</td>\n",
       "    </tr>\n",
       "    <tr>\n",
       "      <th>min</th>\n",
       "      <td>-6.664816e+04</td>\n",
       "      <td>1.003942e+06</td>\n",
       "    </tr>\n",
       "    <tr>\n",
       "      <th>25%</th>\n",
       "      <td>5.482000e+01</td>\n",
       "      <td>1.053893e+06</td>\n",
       "    </tr>\n",
       "    <tr>\n",
       "      <th>50%</th>\n",
       "      <td>2.578800e+02</td>\n",
       "      <td>1.073637e+06</td>\n",
       "    </tr>\n",
       "    <tr>\n",
       "      <th>75%</th>\n",
       "      <td>8.248150e+02</td>\n",
       "      <td>1.091720e+06</td>\n",
       "    </tr>\n",
       "    <tr>\n",
       "      <th>max</th>\n",
       "      <td>2.478334e+07</td>\n",
       "      <td>1.133832e+06</td>\n",
       "    </tr>\n",
       "  </tbody>\n",
       "</table>\n",
       "</div>"
      ],
      "text/plain": [
       "       disbursement_amount   file_number\n",
       "count         6.549900e+04  6.549900e+04\n",
       "mean          9.611805e+03  1.073751e+06\n",
       "std           2.154950e+05  3.116556e+04\n",
       "min          -6.664816e+04  1.003942e+06\n",
       "25%           5.482000e+01  1.053893e+06\n",
       "50%           2.578800e+02  1.073637e+06\n",
       "75%           8.248150e+02  1.091720e+06\n",
       "max           2.478334e+07  1.133832e+06"
      ]
     },
     "execution_count": 6,
     "metadata": {},
     "output_type": "execute_result"
    }
   ],
   "source": [
    "exp.describe()"
   ]
  },
  {
   "cell_type": "markdown",
   "metadata": {},
   "source": [
    "# Basic Questions"
   ]
  },
  {
   "cell_type": "markdown",
   "metadata": {},
   "source": [
    "List all candidates and the number of campaign contributions received."
   ]
  },
  {
   "cell_type": "code",
   "execution_count": 7,
   "metadata": {
    "collapsed": false
   },
   "outputs": [
    {
     "data": {
      "text/plain": [
       "CLINTON, HILLARY RODHAM      23181\n",
       "RUBIO, MARCO                 15200\n",
       "CRUZ, RAFAEL EDWARD 'TED'    11857\n",
       "CARSON, BENJAMIN S.          10199\n",
       "PAUL, RAND                    4070\n",
       "PERRY, JAMES R. (RICK)         986\n",
       "SANTORUM, RICHARD J.             6\n",
       "Name: candidate_name, dtype: int64"
      ]
     },
     "execution_count": 7,
     "metadata": {},
     "output_type": "execute_result"
    }
   ],
   "source": [
    "exp['candidate_name'].value_counts().head(10)"
   ]
  },
  {
   "cell_type": "code",
   "execution_count": 8,
   "metadata": {
    "collapsed": false
   },
   "outputs": [
    {
     "name": "stdout",
     "output_type": "stream",
     "text": [
      "Mean Amount Given\n"
     ]
    },
    {
     "data": {
      "text/plain": [
       "9611.804917480138"
      ]
     },
     "execution_count": 8,
     "metadata": {},
     "output_type": "execute_result"
    }
   ],
   "source": [
    "print('Mean Amount Given')\n",
    "exp['disbursement_amount'].mean()"
   ]
  },
  {
   "cell_type": "markdown",
   "metadata": {},
   "source": [
    "How many people gave more than the average amount?"
   ]
  },
  {
   "cell_type": "code",
   "execution_count": 9,
   "metadata": {
    "collapsed": false
   },
   "outputs": [
    {
     "data": {
      "text/plain": [
       "committee_id           3954\n",
       "candidate_id           3954\n",
       "candidate_name         3954\n",
       "recipient_name         3954\n",
       "disbursement_amount    3954\n",
       "dtype: int64"
      ]
     },
     "execution_count": 9,
     "metadata": {},
     "output_type": "execute_result"
    }
   ],
   "source": [
    "exp[exp['disbursement_amount']>9611.804917480138].count().head()"
   ]
  },
  {
   "cell_type": "markdown",
   "metadata": {},
   "source": [
    "Input maximum amount given."
   ]
  },
  {
   "cell_type": "code",
   "execution_count": 10,
   "metadata": {
    "collapsed": false
   },
   "outputs": [
    {
     "data": {
      "text/plain": [
       "24783344.539999999"
      ]
     },
     "execution_count": 10,
     "metadata": {},
     "output_type": "execute_result"
    }
   ],
   "source": [
    "exp['disbursement_amount'].max()"
   ]
  },
  {
   "cell_type": "markdown",
   "metadata": {},
   "source": [
    "For which candidate?"
   ]
  },
  {
   "cell_type": "code",
   "execution_count": 11,
   "metadata": {
    "collapsed": false
   },
   "outputs": [
    {
     "data": {
      "text/plain": [
       "54422    CLINTON, HILLARY RODHAM\n",
       "Name: candidate_name, dtype: object"
      ]
     },
     "execution_count": 11,
     "metadata": {},
     "output_type": "execute_result"
    }
   ],
   "source": [
    "exp[exp['disbursement_amount']==24783344.539999999]['candidate_name']"
   ]
  },
  {
   "cell_type": "markdown",
   "metadata": {},
   "source": [
    "From which state?"
   ]
  },
  {
   "cell_type": "code",
   "execution_count": 12,
   "metadata": {
    "collapsed": false
   },
   "outputs": [
    {
     "data": {
      "text/plain": [
       "54422    DC\n",
       "Name: recipient_state, dtype: object"
      ]
     },
     "execution_count": 12,
     "metadata": {},
     "output_type": "execute_result"
    }
   ],
   "source": [
    "exp[exp['disbursement_amount']==24783344.539999999]['recipient_state']"
   ]
  },
  {
   "cell_type": "markdown",
   "metadata": {},
   "source": [
    "What were the top 5 ways in which contributions were made?"
   ]
  },
  {
   "cell_type": "code",
   "execution_count": 13,
   "metadata": {
    "collapsed": false
   },
   "outputs": [
    {
     "data": {
      "text/plain": [
       "TRAVEL                    19123\n",
       "PAYROLL                    2903\n",
       "AIRFARE                    2864\n",
       "LODGING                    2530\n",
       "TRAVEL AND SUBSISTENCE     2389\n",
       "Name: disbursement_desc, dtype: int64"
      ]
     },
     "execution_count": 13,
     "metadata": {},
     "output_type": "execute_result"
    }
   ],
   "source": [
    "exp['disbursement_desc'].value_counts().head()"
   ]
  },
  {
   "cell_type": "markdown",
   "metadata": {},
   "source": [
    "List top 5 contributing states."
   ]
  },
  {
   "cell_type": "code",
   "execution_count": 14,
   "metadata": {
    "collapsed": false
   },
   "outputs": [
    {
     "data": {
      "text/plain": [
       "CA    10392\n",
       "DC     9076\n",
       "TX     8598\n",
       "GA     7288\n",
       "IA     3655\n",
       "Name: recipient_state, dtype: int64"
      ]
     },
     "execution_count": 14,
     "metadata": {},
     "output_type": "execute_result"
    }
   ],
   "source": [
    "exp['recipient_state'].value_counts().head()"
   ]
  },
  {
   "cell_type": "markdown",
   "metadata": {},
   "source": [
    "# Exploratory Data Analysis"
   ]
  },
  {
   "cell_type": "markdown",
   "metadata": {},
   "source": [
    "Check for any missing values."
   ]
  },
  {
   "cell_type": "code",
   "execution_count": 16,
   "metadata": {
    "collapsed": false
   },
   "outputs": [
    {
     "data": {
      "text/plain": [
       "<matplotlib.axes._subplots.AxesSubplot at 0x245c6cb1940>"
      ]
     },
     "execution_count": 16,
     "metadata": {},
     "output_type": "execute_result"
    },
    {
     "data": {
      "image/png": "[encoded data removed]",
      "text/plain": [
       "<matplotlib.figure.Figure at 0x245c6bee1d0>"
      ]
     },
     "metadata": {},
     "output_type": "display_data"
    }
   ],
   "source": [
    "#exp.isnull().sum()\n",
    "sns.heatmap(exp.isnull(), yticklabels=False, cbar=False, cmap='viridis')"
   ]
  },
  {
   "cell_type": "code",
   "execution_count": 17,
   "metadata": {
    "collapsed": true
   },
   "outputs": [],
   "source": [
    "exp.dropna(inplace=True)"
   ]
  },
  {
   "cell_type": "code",
   "execution_count": 18,
   "metadata": {
    "collapsed": false
   },
   "outputs": [
    {
     "data": {
      "text/html": [
       "<div>\n",
       "<table border=\"1\" class=\"dataframe\">\n",
       "  <thead>\n",
       "    <tr style=\"text-align: right;\">\n",
       "      <th></th>\n",
       "      <th>committee_id</th>\n",
       "      <th>candidate_id</th>\n",
       "      <th>candidate_name</th>\n",
       "      <th>recipient_name</th>\n",
       "      <th>disbursement_amount</th>\n",
       "      <th>disbursement_date</th>\n",
       "      <th>recipient_city</th>\n",
       "      <th>recipient_state</th>\n",
       "      <th>recipient_zipcode</th>\n",
       "      <th>disbursement_desc</th>\n",
       "      <th>memo_code</th>\n",
       "      <th>memo_text</th>\n",
       "      <th>form_type</th>\n",
       "      <th>file_number</th>\n",
       "      <th>transaction_id</th>\n",
       "      <th>election_type</th>\n",
       "    </tr>\n",
       "  </thead>\n",
       "  <tbody>\n",
       "    <tr>\n",
       "      <th>44719</th>\n",
       "      <td>C00575795</td>\n",
       "      <td>P00003392</td>\n",
       "      <td>CLINTON, HILLARY RODHAM</td>\n",
       "      <td>MOGANNAM, SAM</td>\n",
       "      <td>340.00</td>\n",
       "      <td>4-Nov-16</td>\n",
       "      <td>SAN FRANCISCO</td>\n",
       "      <td>CA</td>\n",
       "      <td>941101531</td>\n",
       "      <td>CATERING, FOOD &amp; BEVERAGES</td>\n",
       "      <td>X</td>\n",
       "      <td>* IN-KIND RECEIVED</td>\n",
       "      <td>SB23</td>\n",
       "      <td>1133832</td>\n",
       "      <td>D351304</td>\n",
       "      <td>G2016</td>\n",
       "    </tr>\n",
       "    <tr>\n",
       "      <th>47805</th>\n",
       "      <td>C00575795</td>\n",
       "      <td>P00003392</td>\n",
       "      <td>CLINTON, HILLARY RODHAM</td>\n",
       "      <td>FRIEDMAN, JEFF</td>\n",
       "      <td>2034.00</td>\n",
       "      <td>31-May-16</td>\n",
       "      <td>SACRAMENTO</td>\n",
       "      <td>CA</td>\n",
       "      <td>958142053</td>\n",
       "      <td>RENT</td>\n",
       "      <td>X</td>\n",
       "      <td>* IN-KIND RECEIVED</td>\n",
       "      <td>SB23</td>\n",
       "      <td>1091720</td>\n",
       "      <td>D211769</td>\n",
       "      <td>P2016</td>\n",
       "    </tr>\n",
       "    <tr>\n",
       "      <th>49598</th>\n",
       "      <td>C00575795</td>\n",
       "      <td>P00003392</td>\n",
       "      <td>CLINTON, HILLARY RODHAM</td>\n",
       "      <td>NORRIS, WENDI</td>\n",
       "      <td>350.00</td>\n",
       "      <td>1-Jul-15</td>\n",
       "      <td>SAN FRANCISCO</td>\n",
       "      <td>CA</td>\n",
       "      <td>941054017</td>\n",
       "      <td>VENUE</td>\n",
       "      <td>X</td>\n",
       "      <td>* IN-KIND RECEIVED</td>\n",
       "      <td>SB23</td>\n",
       "      <td>1081046</td>\n",
       "      <td>D6313</td>\n",
       "      <td>P2016</td>\n",
       "    </tr>\n",
       "    <tr>\n",
       "      <th>50413</th>\n",
       "      <td>C00575795</td>\n",
       "      <td>P00003392</td>\n",
       "      <td>CLINTON, HILLARY RODHAM</td>\n",
       "      <td>YANG, LISA</td>\n",
       "      <td>150.00</td>\n",
       "      <td>22-Mar-16</td>\n",
       "      <td>LOS ANGELES</td>\n",
       "      <td>CA</td>\n",
       "      <td>900382299</td>\n",
       "      <td>VENUE</td>\n",
       "      <td>X</td>\n",
       "      <td>* IN-KIND RECEIVED</td>\n",
       "      <td>SB23</td>\n",
       "      <td>1081062</td>\n",
       "      <td>D170486</td>\n",
       "      <td>P2016</td>\n",
       "    </tr>\n",
       "    <tr>\n",
       "      <th>50858</th>\n",
       "      <td>C00575795</td>\n",
       "      <td>P00003392</td>\n",
       "      <td>CLINTON, HILLARY RODHAM</td>\n",
       "      <td>MURPHY, CHARLES JOHN</td>\n",
       "      <td>546.25</td>\n",
       "      <td>21-Feb-16</td>\n",
       "      <td>COLORADO SPRINGS</td>\n",
       "      <td>CO</td>\n",
       "      <td>809061533</td>\n",
       "      <td>TRANSPORTATION</td>\n",
       "      <td>X</td>\n",
       "      <td>* IN-KIND RECEIVED</td>\n",
       "      <td>SB23</td>\n",
       "      <td>1093618</td>\n",
       "      <td>D157651</td>\n",
       "      <td>P2016</td>\n",
       "    </tr>\n",
       "  </tbody>\n",
       "</table>\n",
       "</div>"
      ],
      "text/plain": [
       "      committee_id candidate_id           candidate_name  \\\n",
       "44719    C00575795    P00003392  CLINTON, HILLARY RODHAM   \n",
       "47805    C00575795    P00003392  CLINTON, HILLARY RODHAM   \n",
       "49598    C00575795    P00003392  CLINTON, HILLARY RODHAM   \n",
       "50413    C00575795    P00003392  CLINTON, HILLARY RODHAM   \n",
       "50858    C00575795    P00003392  CLINTON, HILLARY RODHAM   \n",
       "\n",
       "             recipient_name  disbursement_amount disbursement_date  \\\n",
       "44719         MOGANNAM, SAM               340.00          4-Nov-16   \n",
       "47805        FRIEDMAN, JEFF              2034.00         31-May-16   \n",
       "49598         NORRIS, WENDI               350.00          1-Jul-15   \n",
       "50413            YANG, LISA               150.00         22-Mar-16   \n",
       "50858  MURPHY, CHARLES JOHN               546.25         21-Feb-16   \n",
       "\n",
       "         recipient_city recipient_state recipient_zipcode  \\\n",
       "44719     SAN FRANCISCO              CA         941101531   \n",
       "47805        SACRAMENTO              CA         958142053   \n",
       "49598     SAN FRANCISCO              CA         941054017   \n",
       "50413       LOS ANGELES              CA         900382299   \n",
       "50858  COLORADO SPRINGS              CO         809061533   \n",
       "\n",
       "                disbursement_desc memo_code           memo_text form_type  \\\n",
       "44719  CATERING, FOOD & BEVERAGES         X  * IN-KIND RECEIVED      SB23   \n",
       "47805                        RENT         X  * IN-KIND RECEIVED      SB23   \n",
       "49598                       VENUE         X  * IN-KIND RECEIVED      SB23   \n",
       "50413                       VENUE         X  * IN-KIND RECEIVED      SB23   \n",
       "50858              TRANSPORTATION         X  * IN-KIND RECEIVED      SB23   \n",
       "\n",
       "       file_number transaction_id election_type  \n",
       "44719      1133832        D351304         G2016  \n",
       "47805      1091720        D211769         P2016  \n",
       "49598      1081046          D6313         P2016  \n",
       "50413      1081062        D170486         P2016  \n",
       "50858      1093618        D157651         P2016  "
      ]
     },
     "execution_count": 18,
     "metadata": {},
     "output_type": "execute_result"
    }
   ],
   "source": [
    "exp.head()"
   ]
  },
  {
   "cell_type": "code",
   "execution_count": 23,
   "metadata": {
    "collapsed": false
   },
   "outputs": [
    {
     "data": {
      "text/plain": [
       "(7, 16)"
      ]
     },
     "execution_count": 23,
     "metadata": {},
     "output_type": "execute_result"
    }
   ],
   "source": [
    "exp.shape"
   ]
  },
  {
   "cell_type": "markdown",
   "metadata": {},
   "source": [
    "Anymore missing data?"
   ]
  },
  {
   "cell_type": "code",
   "execution_count": 19,
   "metadata": {
    "collapsed": false
   },
   "outputs": [
    {
     "data": {
      "text/plain": [
       "committee_id           0\n",
       "candidate_id           0\n",
       "candidate_name         0\n",
       "recipient_name         0\n",
       "disbursement_amount    0\n",
       "disbursement_date      0\n",
       "recipient_city         0\n",
       "recipient_state        0\n",
       "recipient_zipcode      0\n",
       "disbursement_desc      0\n",
       "memo_code              0\n",
       "memo_text              0\n",
       "form_type              0\n",
       "file_number            0\n",
       "transaction_id         0\n",
       "election_type          0\n",
       "dtype: int64"
      ]
     },
     "execution_count": 19,
     "metadata": {},
     "output_type": "execute_result"
    }
   ],
   "source": [
    "exp.isnull().sum()"
   ]
  },
  {
   "cell_type": "markdown",
   "metadata": {},
   "source": [
    "Provide new countplot for states."
   ]
  },
  {
   "cell_type": "code",
   "execution_count": 22,
   "metadata": {
    "collapsed": false
   },
   "outputs": [
    {
     "data": {
      "image/png": "[encoded data removed]",
      "text/plain": [
       "<matplotlib.figure.Figure at 0x245c7244b70>"
      ]
     },
     "metadata": {},
     "output_type": "display_data"
    }
   ],
   "source": [
    "sns.countplot(x='recipient_state',data=exp,palette='viridis')\n",
    "plt.tight_layout()"
   ]
  },
  {
   "cell_type": "code",
   "execution_count": null,
   "metadata": {
    "collapsed": true
   },
   "outputs": [],
   "source": []
  }
 ],
 "metadata": {
  "kernelspec": {
   "display_name": "Python [default]",
   "language": "python",
   "name": "python3"
  },
  "language_info": {
   "codemirror_mode": {
    "name": "ipython",
    "version": 3
   },
   "file_extension": ".py",
   "mimetype": "text/x-python",
   "name": "python",
   "nbconvert_exporter": "python",
   "pygments_lexer": "ipython3",
   "version": "3.5.2"
  }
 },
 "nbformat": 4,
 "nbformat_minor": 1
}
